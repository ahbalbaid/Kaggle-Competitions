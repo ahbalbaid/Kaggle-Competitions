{
 "cells": [
  {
   "cell_type": "markdown",
   "id": "5593b5e8",
   "metadata": {
    "id": "TqN1B6AYN1pH",
    "papermill": {
     "duration": 0.006674,
     "end_time": "2023-03-04T12:12:26.265122",
     "exception": false,
     "start_time": "2023-03-04T12:12:26.258448",
     "status": "completed"
    },
    "tags": []
   },
   "source": [
    "<h3> First Kaggle competition </h3>\n",
    "Welcome to my repository for my first Kaggle competition, the Titanic! The Titanic disaster is one of history's most famous shipwrecks, and this competition allows me to put my machine learning skills to the test. In this challenge, I'll use the provided passenger data to create a predictive model that will predict who is most likely to survive the Titanic's sinking. To find the best solution, I'll explore various features and employ various algorithms. I'm looking forward to seeing what insights and lessons I can obtain from this experience. Keep an eye out for updates on my progress!"
   ]
  },
  {
   "cell_type": "code",
   "execution_count": 1,
   "id": "7c8d089c",
   "metadata": {
    "execution": {
     "iopub.execute_input": "2023-03-04T12:12:26.278539Z",
     "iopub.status.busy": "2023-03-04T12:12:26.277476Z",
     "iopub.status.idle": "2023-03-04T12:12:27.943632Z",
     "shell.execute_reply": "2023-03-04T12:12:27.942377Z"
    },
    "id": "jP9nQgrfNmcD",
    "papermill": {
     "duration": 1.67645,
     "end_time": "2023-03-04T12:12:27.947198",
     "exception": false,
     "start_time": "2023-03-04T12:12:26.270748",
     "status": "completed"
    },
    "tags": []
   },
   "outputs": [],
   "source": [
    "import numpy as np\n",
    "import pandas as pd\n",
    "import matplotlib.pyplot as plt\n",
    "import seaborn as sns\n",
    "import sklearn.datasets\n",
    "from sklearn.model_selection import train_test_split\n",
    "from xgboost import XGBRegressor\n",
    "from sklearn import metrics"
   ]
  },
  {
   "cell_type": "code",
   "execution_count": 2,
   "id": "4f3b1a69",
   "metadata": {
    "execution": {
     "iopub.execute_input": "2023-03-04T12:12:27.960942Z",
     "iopub.status.busy": "2023-03-04T12:12:27.960064Z",
     "iopub.status.idle": "2023-03-04T12:12:27.983078Z",
     "shell.execute_reply": "2023-03-04T12:12:27.981677Z"
    },
    "id": "S_ODylCKvd_P",
    "papermill": {
     "duration": 0.032659,
     "end_time": "2023-03-04T12:12:27.985758",
     "exception": false,
     "start_time": "2023-03-04T12:12:27.953099",
     "status": "completed"
    },
    "tags": []
   },
   "outputs": [],
   "source": [
    "df = pd.read_csv(\"/kaggle/input/titanic/train.csv\")"
   ]
  },
  {
   "cell_type": "code",
   "execution_count": 3,
   "id": "a27334fe",
   "metadata": {
    "execution": {
     "iopub.execute_input": "2023-03-04T12:12:27.998442Z",
     "iopub.status.busy": "2023-03-04T12:12:27.998026Z",
     "iopub.status.idle": "2023-03-04T12:12:28.029182Z",
     "shell.execute_reply": "2023-03-04T12:12:28.027835Z"
    },
    "id": "k19adHeHy9wQ",
    "outputId": "32f02689-3f43-4db7-a11a-c88bb891113c",
    "papermill": {
     "duration": 0.04102,
     "end_time": "2023-03-04T12:12:28.032430",
     "exception": false,
     "start_time": "2023-03-04T12:12:27.991410",
     "status": "completed"
    },
    "tags": []
   },
   "outputs": [
    {
     "name": "stdout",
     "output_type": "stream",
     "text": [
      "<class 'pandas.core.frame.DataFrame'>\n",
      "RangeIndex: 891 entries, 0 to 890\n",
      "Data columns (total 12 columns):\n",
      " #   Column       Non-Null Count  Dtype  \n",
      "---  ------       --------------  -----  \n",
      " 0   PassengerId  891 non-null    int64  \n",
      " 1   Survived     891 non-null    int64  \n",
      " 2   Pclass       891 non-null    int64  \n",
      " 3   Name         891 non-null    object \n",
      " 4   Sex          891 non-null    object \n",
      " 5   Age          714 non-null    float64\n",
      " 6   SibSp        891 non-null    int64  \n",
      " 7   Parch        891 non-null    int64  \n",
      " 8   Ticket       891 non-null    object \n",
      " 9   Fare         891 non-null    float64\n",
      " 10  Cabin        204 non-null    object \n",
      " 11  Embarked     889 non-null    object \n",
      "dtypes: float64(2), int64(5), object(5)\n",
      "memory usage: 83.7+ KB\n"
     ]
    }
   ],
   "source": [
    "df.info()"
   ]
  },
  {
   "cell_type": "code",
   "execution_count": 4,
   "id": "1e812afd",
   "metadata": {
    "execution": {
     "iopub.execute_input": "2023-03-04T12:12:28.046483Z",
     "iopub.status.busy": "2023-03-04T12:12:28.046056Z",
     "iopub.status.idle": "2023-03-04T12:12:28.329523Z",
     "shell.execute_reply": "2023-03-04T12:12:28.328627Z"
    },
    "id": "9L0F8VprvRKw",
    "outputId": "0bf5858e-964a-4f28-ef0b-f23d3169b24f",
    "papermill": {
     "duration": 0.293264,
     "end_time": "2023-03-04T12:12:28.332252",
     "exception": false,
     "start_time": "2023-03-04T12:12:28.038988",
     "status": "completed"
    },
    "tags": []
   },
   "outputs": [
    {
     "data": {
      "text/plain": [
       "(array([ 54.,  46., 177., 169., 118.,  70.,  45.,  24.,   9.,   2.]),\n",
       " array([ 0.42 ,  8.378, 16.336, 24.294, 32.252, 40.21 , 48.168, 56.126,\n",
       "        64.084, 72.042, 80.   ]),\n",
       " <BarContainer object of 10 artists>)"
      ]
     },
     "execution_count": 4,
     "metadata": {},
     "output_type": "execute_result"
    },
    {
     "data": {
      "image/png": "[encoded data removed]",
      "text/plain": [
       "<Figure size 640x480 with 1 Axes>"
      ]
     },
     "metadata": {},
     "output_type": "display_data"
    }
   ],
   "source": [
    "plt.hist(df[\"Age\"])"
   ]
  },
  {
   "cell_type": "code",
   "execution_count": 5,
   "id": "50c95068",
   "metadata": {
    "execution": {
     "iopub.execute_input": "2023-03-04T12:12:28.346731Z",
     "iopub.status.busy": "2023-03-04T12:12:28.345718Z",
     "iopub.status.idle": "2023-03-04T12:12:28.352173Z",
     "shell.execute_reply": "2023-03-04T12:12:28.350988Z"
    },
    "id": "bfYpmDrqvsov",
    "papermill": {
     "duration": 0.016286,
     "end_time": "2023-03-04T12:12:28.354698",
     "exception": false,
     "start_time": "2023-03-04T12:12:28.338412",
     "status": "completed"
    },
    "tags": []
   },
   "outputs": [],
   "source": [
    "surv = df[(df['Survived'] == 1)]"
   ]
  },
  {
   "cell_type": "code",
   "execution_count": 6,
   "id": "d22d1d5e",
   "metadata": {
    "execution": {
     "iopub.execute_input": "2023-03-04T12:12:28.368083Z",
     "iopub.status.busy": "2023-03-04T12:12:28.367725Z",
     "iopub.status.idle": "2023-03-04T12:12:28.405971Z",
     "shell.execute_reply": "2023-03-04T12:12:28.404645Z"
    },
    "id": "Y18zugcd9G1u",
    "outputId": "389cc7dc-562c-4c4c-b1f7-e548dfa566e1",
    "papermill": {
     "duration": 0.047803,
     "end_time": "2023-03-04T12:12:28.408508",
     "exception": false,
     "start_time": "2023-03-04T12:12:28.360705",
     "status": "completed"
    },
    "tags": []
   },
   "outputs": [
    {
     "data": {
      "text/html": [
       "<div>\n",
       "<style scoped>\n",
       "    .dataframe tbody tr th:only-of-type {\n",
       "        vertical-align: middle;\n",
       "    }\n",
       "\n",
       "    .dataframe tbody tr th {\n",
       "        vertical-align: top;\n",
       "    }\n",
       "\n",
       "    .dataframe thead th {\n",
       "        text-align: right;\n",
       "    }\n",
       "</style>\n",
       "<table border=\"1\" class=\"dataframe\">\n",
       "  <thead>\n",
       "    <tr style=\"text-align: right;\">\n",
       "      <th></th>\n",
       "      <th>PassengerId</th>\n",
       "      <th>Survived</th>\n",
       "      <th>Pclass</th>\n",
       "      <th>Name</th>\n",
       "      <th>Sex</th>\n",
       "      <th>Age</th>\n",
       "      <th>SibSp</th>\n",
       "      <th>Parch</th>\n",
       "      <th>Ticket</th>\n",
       "      <th>Fare</th>\n",
       "      <th>Cabin</th>\n",
       "      <th>Embarked</th>\n",
       "    </tr>\n",
       "  </thead>\n",
       "  <tbody>\n",
       "    <tr>\n",
       "      <th>0</th>\n",
       "      <td>1</td>\n",
       "      <td>0</td>\n",
       "      <td>3</td>\n",
       "      <td>Braund, Mr. Owen Harris</td>\n",
       "      <td>1</td>\n",
       "      <td>22.0</td>\n",
       "      <td>1</td>\n",
       "      <td>0</td>\n",
       "      <td>A/5 21171</td>\n",
       "      <td>7.2500</td>\n",
       "      <td>NaN</td>\n",
       "      <td>S</td>\n",
       "    </tr>\n",
       "    <tr>\n",
       "      <th>1</th>\n",
       "      <td>2</td>\n",
       "      <td>1</td>\n",
       "      <td>1</td>\n",
       "      <td>Cumings, Mrs. John Bradley (Florence Briggs Th...</td>\n",
       "      <td>0</td>\n",
       "      <td>38.0</td>\n",
       "      <td>1</td>\n",
       "      <td>0</td>\n",
       "      <td>PC 17599</td>\n",
       "      <td>71.2833</td>\n",
       "      <td>C85</td>\n",
       "      <td>C</td>\n",
       "    </tr>\n",
       "    <tr>\n",
       "      <th>2</th>\n",
       "      <td>3</td>\n",
       "      <td>1</td>\n",
       "      <td>3</td>\n",
       "      <td>Heikkinen, Miss. Laina</td>\n",
       "      <td>0</td>\n",
       "      <td>26.0</td>\n",
       "      <td>0</td>\n",
       "      <td>0</td>\n",
       "      <td>STON/O2. 3101282</td>\n",
       "      <td>7.9250</td>\n",
       "      <td>NaN</td>\n",
       "      <td>S</td>\n",
       "    </tr>\n",
       "    <tr>\n",
       "      <th>3</th>\n",
       "      <td>4</td>\n",
       "      <td>1</td>\n",
       "      <td>1</td>\n",
       "      <td>Futrelle, Mrs. Jacques Heath (Lily May Peel)</td>\n",
       "      <td>0</td>\n",
       "      <td>35.0</td>\n",
       "      <td>1</td>\n",
       "      <td>0</td>\n",
       "      <td>113803</td>\n",
       "      <td>53.1000</td>\n",
       "      <td>C123</td>\n",
       "      <td>S</td>\n",
       "    </tr>\n",
       "    <tr>\n",
       "      <th>4</th>\n",
       "      <td>5</td>\n",
       "      <td>0</td>\n",
       "      <td>3</td>\n",
       "      <td>Allen, Mr. William Henry</td>\n",
       "      <td>1</td>\n",
       "      <td>35.0</td>\n",
       "      <td>0</td>\n",
       "      <td>0</td>\n",
       "      <td>373450</td>\n",
       "      <td>8.0500</td>\n",
       "      <td>NaN</td>\n",
       "      <td>S</td>\n",
       "    </tr>\n",
       "    <tr>\n",
       "      <th>...</th>\n",
       "      <td>...</td>\n",
       "      <td>...</td>\n",
       "      <td>...</td>\n",
       "      <td>...</td>\n",
       "      <td>...</td>\n",
       "      <td>...</td>\n",
       "      <td>...</td>\n",
       "      <td>...</td>\n",
       "      <td>...</td>\n",
       "      <td>...</td>\n",
       "      <td>...</td>\n",
       "      <td>...</td>\n",
       "    </tr>\n",
       "    <tr>\n",
       "      <th>886</th>\n",
       "      <td>887</td>\n",
       "      <td>0</td>\n",
       "      <td>2</td>\n",
       "      <td>Montvila, Rev. Juozas</td>\n",
       "      <td>1</td>\n",
       "      <td>27.0</td>\n",
       "      <td>0</td>\n",
       "      <td>0</td>\n",
       "      <td>211536</td>\n",
       "      <td>13.0000</td>\n",
       "      <td>NaN</td>\n",
       "      <td>S</td>\n",
       "    </tr>\n",
       "    <tr>\n",
       "      <th>887</th>\n",
       "      <td>888</td>\n",
       "      <td>1</td>\n",
       "      <td>1</td>\n",
       "      <td>Graham, Miss. Margaret Edith</td>\n",
       "      <td>0</td>\n",
       "      <td>19.0</td>\n",
       "      <td>0</td>\n",
       "      <td>0</td>\n",
       "      <td>112053</td>\n",
       "      <td>30.0000</td>\n",
       "      <td>B42</td>\n",
       "      <td>S</td>\n",
       "    </tr>\n",
       "    <tr>\n",
       "      <th>888</th>\n",
       "      <td>889</td>\n",
       "      <td>0</td>\n",
       "      <td>3</td>\n",
       "      <td>Johnston, Miss. Catherine Helen \"Carrie\"</td>\n",
       "      <td>0</td>\n",
       "      <td>NaN</td>\n",
       "      <td>1</td>\n",
       "      <td>2</td>\n",
       "      <td>W./C. 6607</td>\n",
       "      <td>23.4500</td>\n",
       "      <td>NaN</td>\n",
       "      <td>S</td>\n",
       "    </tr>\n",
       "    <tr>\n",
       "      <th>889</th>\n",
       "      <td>890</td>\n",
       "      <td>1</td>\n",
       "      <td>1</td>\n",
       "      <td>Behr, Mr. Karl Howell</td>\n",
       "      <td>1</td>\n",
       "      <td>26.0</td>\n",
       "      <td>0</td>\n",
       "      <td>0</td>\n",
       "      <td>111369</td>\n",
       "      <td>30.0000</td>\n",
       "      <td>C148</td>\n",
       "      <td>C</td>\n",
       "    </tr>\n",
       "    <tr>\n",
       "      <th>890</th>\n",
       "      <td>891</td>\n",
       "      <td>0</td>\n",
       "      <td>3</td>\n",
       "      <td>Dooley, Mr. Patrick</td>\n",
       "      <td>1</td>\n",
       "      <td>32.0</td>\n",
       "      <td>0</td>\n",
       "      <td>0</td>\n",
       "      <td>370376</td>\n",
       "      <td>7.7500</td>\n",
       "      <td>NaN</td>\n",
       "      <td>Q</td>\n",
       "    </tr>\n",
       "  </tbody>\n",
       "</table>\n",
       "<p>891 rows × 12 columns</p>\n",
       "</div>"
      ],
      "text/plain": [
       "     PassengerId  Survived  Pclass  \\\n",
       "0              1         0       3   \n",
       "1              2         1       1   \n",
       "2              3         1       3   \n",
       "3              4         1       1   \n",
       "4              5         0       3   \n",
       "..           ...       ...     ...   \n",
       "886          887         0       2   \n",
       "887          888         1       1   \n",
       "888          889         0       3   \n",
       "889          890         1       1   \n",
       "890          891         0       3   \n",
       "\n",
       "                                                  Name  Sex   Age  SibSp  \\\n",
       "0                              Braund, Mr. Owen Harris    1  22.0      1   \n",
       "1    Cumings, Mrs. John Bradley (Florence Briggs Th...    0  38.0      1   \n",
       "2                               Heikkinen, Miss. Laina    0  26.0      0   \n",
       "3         Futrelle, Mrs. Jacques Heath (Lily May Peel)    0  35.0      1   \n",
       "4                             Allen, Mr. William Henry    1  35.0      0   \n",
       "..                                                 ...  ...   ...    ...   \n",
       "886                              Montvila, Rev. Juozas    1  27.0      0   \n",
       "887                       Graham, Miss. Margaret Edith    0  19.0      0   \n",
       "888           Johnston, Miss. Catherine Helen \"Carrie\"    0   NaN      1   \n",
       "889                              Behr, Mr. Karl Howell    1  26.0      0   \n",
       "890                                Dooley, Mr. Patrick    1  32.0      0   \n",
       "\n",
       "     Parch            Ticket     Fare Cabin Embarked  \n",
       "0        0         A/5 21171   7.2500   NaN        S  \n",
       "1        0          PC 17599  71.2833   C85        C  \n",
       "2        0  STON/O2. 3101282   7.9250   NaN        S  \n",
       "3        0            113803  53.1000  C123        S  \n",
       "4        0            373450   8.0500   NaN        S  \n",
       "..     ...               ...      ...   ...      ...  \n",
       "886      0            211536  13.0000   NaN        S  \n",
       "887      0            112053  30.0000   B42        S  \n",
       "888      2        W./C. 6607  23.4500   NaN        S  \n",
       "889      0            111369  30.0000  C148        C  \n",
       "890      0            370376   7.7500   NaN        Q  \n",
       "\n",
       "[891 rows x 12 columns]"
      ]
     },
     "execution_count": 6,
     "metadata": {},
     "output_type": "execute_result"
    }
   ],
   "source": [
    "df['Sex'].replace('female', 0,inplace=True)\n",
    "df['Sex'].replace('male', 1,inplace=True)\n",
    "df"
   ]
  },
  {
   "cell_type": "code",
   "execution_count": 7,
   "id": "34542770",
   "metadata": {
    "execution": {
     "iopub.execute_input": "2023-03-04T12:12:28.423376Z",
     "iopub.status.busy": "2023-03-04T12:12:28.422995Z",
     "iopub.status.idle": "2023-03-04T12:12:28.434809Z",
     "shell.execute_reply": "2023-03-04T12:12:28.433865Z"
    },
    "id": "8_hZ_hBm8dB-",
    "outputId": "32562ee7-b631-470b-db09-85535fb397e7",
    "papermill": {
     "duration": 0.021888,
     "end_time": "2023-03-04T12:12:28.437081",
     "exception": false,
     "start_time": "2023-03-04T12:12:28.415193",
     "status": "completed"
    },
    "tags": []
   },
   "outputs": [
    {
     "data": {
      "text/plain": [
       "PassengerId   -0.005007\n",
       "Survived       1.000000\n",
       "Pclass        -0.338481\n",
       "Sex           -0.543351\n",
       "Age           -0.077221\n",
       "SibSp         -0.035322\n",
       "Parch          0.081629\n",
       "Fare           0.257307\n",
       "Name: Survived, dtype: float64"
      ]
     },
     "execution_count": 7,
     "metadata": {},
     "output_type": "execute_result"
    }
   ],
   "source": [
    "df.corr()[\"Survived\"] # survive with sex, Pclass, Fare, Parch, SibSp."
   ]
  },
  {
   "cell_type": "code",
   "execution_count": 8,
   "id": "d4dedeb3",
   "metadata": {
    "execution": {
     "iopub.execute_input": "2023-03-04T12:12:28.452089Z",
     "iopub.status.busy": "2023-03-04T12:12:28.451148Z",
     "iopub.status.idle": "2023-03-04T12:12:28.743477Z",
     "shell.execute_reply": "2023-03-04T12:12:28.742206Z"
    },
    "id": "JCNdV5b905aa",
    "outputId": "283a4e6f-1382-4e29-cff6-364390ece246",
    "papermill": {
     "duration": 0.303508,
     "end_time": "2023-03-04T12:12:28.747000",
     "exception": false,
     "start_time": "2023-03-04T12:12:28.443492",
     "status": "completed"
    },
    "tags": []
   },
   "outputs": [
    {
     "data": {
      "text/plain": [
       "<AxesSubplot:>"
      ]
     },
     "execution_count": 8,
     "metadata": {},
     "output_type": "execute_result"
    },
    {
     "data": {
      "image/png": "[encoded data removed]",
      "text/plain": [
       "<Figure size 640x480 with 2 Axes>"
      ]
     },
     "metadata": {},
     "output_type": "display_data"
    }
   ],
   "source": [
    "sns.heatmap(df.corr())"
   ]
  },
  {
   "cell_type": "code",
   "execution_count": 9,
   "id": "b1e78681",
   "metadata": {
    "execution": {
     "iopub.execute_input": "2023-03-04T12:12:28.764022Z",
     "iopub.status.busy": "2023-03-04T12:12:28.763315Z",
     "iopub.status.idle": "2023-03-04T12:12:28.870775Z",
     "shell.execute_reply": "2023-03-04T12:12:28.869324Z"
    },
    "id": "dEfmwkPWIetJ",
    "papermill": {
     "duration": 0.119154,
     "end_time": "2023-03-04T12:12:28.873641",
     "exception": false,
     "start_time": "2023-03-04T12:12:28.754487",
     "status": "completed"
    },
    "tags": []
   },
   "outputs": [],
   "source": [
    "from sklearn.model_selection import train_test_split\n",
    "from sklearn.linear_model import LogisticRegression\n",
    "from sklearn.metrics import accuracy_score, confusion_matrix"
   ]
  },
  {
   "cell_type": "code",
   "execution_count": 10,
   "id": "f59d65d7",
   "metadata": {
    "execution": {
     "iopub.execute_input": "2023-03-04T12:12:28.890497Z",
     "iopub.status.busy": "2023-03-04T12:12:28.890075Z",
     "iopub.status.idle": "2023-03-04T12:12:28.895910Z",
     "shell.execute_reply": "2023-03-04T12:12:28.894657Z"
    },
    "id": "dCeQLJYhLLhs",
    "papermill": {
     "duration": 0.018222,
     "end_time": "2023-03-04T12:12:28.899333",
     "exception": false,
     "start_time": "2023-03-04T12:12:28.881111",
     "status": "completed"
    },
    "tags": []
   },
   "outputs": [],
   "source": [
    "data = pd.DataFrame()"
   ]
  },
  {
   "cell_type": "code",
   "execution_count": 11,
   "id": "940aef0c",
   "metadata": {
    "execution": {
     "iopub.execute_input": "2023-03-04T12:12:28.916658Z",
     "iopub.status.busy": "2023-03-04T12:12:28.916207Z",
     "iopub.status.idle": "2023-03-04T12:12:28.926440Z",
     "shell.execute_reply": "2023-03-04T12:12:28.925074Z"
    },
    "id": "GM4egct0JEaT",
    "papermill": {
     "duration": 0.021871,
     "end_time": "2023-03-04T12:12:28.929310",
     "exception": false,
     "start_time": "2023-03-04T12:12:28.907439",
     "status": "completed"
    },
    "tags": []
   },
   "outputs": [],
   "source": [
    "#data[\"PassengerId\"] = df[\"PassengerId\"]\n",
    "data[\"Sex\"] = df['Sex'] # survive with sex, Pclass, Fare, Parch, SibSp.\n",
    "data[\"Pclass\"] = df[\"Pclass\"]\n",
    "data[\"Fare\"] = df[\"Fare\"]\n",
    "data[\"Parch\"] = df[\"Parch\"]\n",
    "data[\"SibSp\"] = df[\"SibSp\"]\n",
    "#data[\"Survived\"] = df[\"Survived\"]"
   ]
  },
  {
   "cell_type": "code",
   "execution_count": 12,
   "id": "fe2dee81",
   "metadata": {
    "execution": {
     "iopub.execute_input": "2023-03-04T12:12:28.948513Z",
     "iopub.status.busy": "2023-03-04T12:12:28.947673Z",
     "iopub.status.idle": "2023-03-04T12:12:28.963146Z",
     "shell.execute_reply": "2023-03-04T12:12:28.961908Z"
    },
    "id": "19KJ_qDkK9gf",
    "outputId": "a853e695-a87c-4140-b25f-9d784592fd86",
    "papermill": {
     "duration": 0.028335,
     "end_time": "2023-03-04T12:12:28.965651",
     "exception": false,
     "start_time": "2023-03-04T12:12:28.937316",
     "status": "completed"
    },
    "tags": []
   },
   "outputs": [
    {
     "data": {
      "text/html": [
       "<div>\n",
       "<style scoped>\n",
       "    .dataframe tbody tr th:only-of-type {\n",
       "        vertical-align: middle;\n",
       "    }\n",
       "\n",
       "    .dataframe tbody tr th {\n",
       "        vertical-align: top;\n",
       "    }\n",
       "\n",
       "    .dataframe thead th {\n",
       "        text-align: right;\n",
       "    }\n",
       "</style>\n",
       "<table border=\"1\" class=\"dataframe\">\n",
       "  <thead>\n",
       "    <tr style=\"text-align: right;\">\n",
       "      <th></th>\n",
       "      <th>Sex</th>\n",
       "      <th>Pclass</th>\n",
       "      <th>Fare</th>\n",
       "      <th>Parch</th>\n",
       "      <th>SibSp</th>\n",
       "    </tr>\n",
       "  </thead>\n",
       "  <tbody>\n",
       "    <tr>\n",
       "      <th>0</th>\n",
       "      <td>1</td>\n",
       "      <td>3</td>\n",
       "      <td>7.2500</td>\n",
       "      <td>0</td>\n",
       "      <td>1</td>\n",
       "    </tr>\n",
       "    <tr>\n",
       "      <th>1</th>\n",
       "      <td>0</td>\n",
       "      <td>1</td>\n",
       "      <td>71.2833</td>\n",
       "      <td>0</td>\n",
       "      <td>1</td>\n",
       "    </tr>\n",
       "    <tr>\n",
       "      <th>2</th>\n",
       "      <td>0</td>\n",
       "      <td>3</td>\n",
       "      <td>7.9250</td>\n",
       "      <td>0</td>\n",
       "      <td>0</td>\n",
       "    </tr>\n",
       "    <tr>\n",
       "      <th>3</th>\n",
       "      <td>0</td>\n",
       "      <td>1</td>\n",
       "      <td>53.1000</td>\n",
       "      <td>0</td>\n",
       "      <td>1</td>\n",
       "    </tr>\n",
       "    <tr>\n",
       "      <th>4</th>\n",
       "      <td>1</td>\n",
       "      <td>3</td>\n",
       "      <td>8.0500</td>\n",
       "      <td>0</td>\n",
       "      <td>0</td>\n",
       "    </tr>\n",
       "    <tr>\n",
       "      <th>...</th>\n",
       "      <td>...</td>\n",
       "      <td>...</td>\n",
       "      <td>...</td>\n",
       "      <td>...</td>\n",
       "      <td>...</td>\n",
       "    </tr>\n",
       "    <tr>\n",
       "      <th>886</th>\n",
       "      <td>1</td>\n",
       "      <td>2</td>\n",
       "      <td>13.0000</td>\n",
       "      <td>0</td>\n",
       "      <td>0</td>\n",
       "    </tr>\n",
       "    <tr>\n",
       "      <th>887</th>\n",
       "      <td>0</td>\n",
       "      <td>1</td>\n",
       "      <td>30.0000</td>\n",
       "      <td>0</td>\n",
       "      <td>0</td>\n",
       "    </tr>\n",
       "    <tr>\n",
       "      <th>888</th>\n",
       "      <td>0</td>\n",
       "      <td>3</td>\n",
       "      <td>23.4500</td>\n",
       "      <td>2</td>\n",
       "      <td>1</td>\n",
       "    </tr>\n",
       "    <tr>\n",
       "      <th>889</th>\n",
       "      <td>1</td>\n",
       "      <td>1</td>\n",
       "      <td>30.0000</td>\n",
       "      <td>0</td>\n",
       "      <td>0</td>\n",
       "    </tr>\n",
       "    <tr>\n",
       "      <th>890</th>\n",
       "      <td>1</td>\n",
       "      <td>3</td>\n",
       "      <td>7.7500</td>\n",
       "      <td>0</td>\n",
       "      <td>0</td>\n",
       "    </tr>\n",
       "  </tbody>\n",
       "</table>\n",
       "<p>891 rows × 5 columns</p>\n",
       "</div>"
      ],
      "text/plain": [
       "     Sex  Pclass     Fare  Parch  SibSp\n",
       "0      1       3   7.2500      0      1\n",
       "1      0       1  71.2833      0      1\n",
       "2      0       3   7.9250      0      0\n",
       "3      0       1  53.1000      0      1\n",
       "4      1       3   8.0500      0      0\n",
       "..   ...     ...      ...    ...    ...\n",
       "886    1       2  13.0000      0      0\n",
       "887    0       1  30.0000      0      0\n",
       "888    0       3  23.4500      2      1\n",
       "889    1       1  30.0000      0      0\n",
       "890    1       3   7.7500      0      0\n",
       "\n",
       "[891 rows x 5 columns]"
      ]
     },
     "execution_count": 12,
     "metadata": {},
     "output_type": "execute_result"
    }
   ],
   "source": [
    "data"
   ]
  },
  {
   "cell_type": "code",
   "execution_count": 13,
   "id": "327d291b",
   "metadata": {
    "execution": {
     "iopub.execute_input": "2023-03-04T12:12:28.983914Z",
     "iopub.status.busy": "2023-03-04T12:12:28.982942Z",
     "iopub.status.idle": "2023-03-04T12:12:28.993973Z",
     "shell.execute_reply": "2023-03-04T12:12:28.992644Z"
    },
    "id": "GwKeGzlQLmRm",
    "papermill": {
     "duration": 0.023764,
     "end_time": "2023-03-04T12:12:28.997333",
     "exception": false,
     "start_time": "2023-03-04T12:12:28.973569",
     "status": "completed"
    },
    "tags": []
   },
   "outputs": [],
   "source": [
    "X_train, X_test, y_train, y_test = train_test_split(data, df[\"Survived\"], test_size = 0.33, random_state = 0)"
   ]
  },
  {
   "cell_type": "code",
   "execution_count": 14,
   "id": "bc27114e",
   "metadata": {
    "execution": {
     "iopub.execute_input": "2023-03-04T12:12:29.015675Z",
     "iopub.status.busy": "2023-03-04T12:12:29.014112Z",
     "iopub.status.idle": "2023-03-04T12:12:29.051171Z",
     "shell.execute_reply": "2023-03-04T12:12:29.049650Z"
    },
    "id": "1kIGYE7ON89g",
    "outputId": "5cec2368-184d-4188-d947-acd85ef87518",
    "papermill": {
     "duration": 0.048971,
     "end_time": "2023-03-04T12:12:29.054094",
     "exception": false,
     "start_time": "2023-03-04T12:12:29.005123",
     "status": "completed"
    },
    "tags": []
   },
   "outputs": [
    {
     "data": {
      "text/plain": [
       "array([0, 0, 0, 1, 1, 0, 1, 1, 0, 1, 0, 1, 0, 1, 1, 1, 0, 0, 0, 0, 0, 1,\n",
       "       0, 0, 1, 1, 0, 1, 1, 0, 0, 1, 0, 0, 0, 0, 0, 0, 0, 0, 0, 0, 0, 0,\n",
       "       1, 0, 0, 1, 0, 0, 0, 0, 1, 0, 0, 0, 0, 0, 0, 0, 0, 1, 1, 0, 1, 0,\n",
       "       1, 0, 1, 1, 1, 0, 0, 0, 0, 1, 0, 0, 0, 0, 0, 0, 1, 0, 0, 1, 1, 1,\n",
       "       1, 0, 0, 0, 0, 1, 0, 0, 1, 0, 0, 0, 0, 0, 0, 0, 1, 1, 1, 1, 0, 1,\n",
       "       0, 1, 0, 1, 0, 1, 1, 1, 0, 1, 0, 0, 0, 0, 0, 0, 0, 0, 0, 0, 1, 0,\n",
       "       0, 1, 0, 0, 0, 1, 0, 0, 0, 1, 0, 1, 1, 1, 0, 1, 1, 0, 0, 1, 1, 0,\n",
       "       1, 0, 1, 0, 1, 1, 0, 0, 1, 0, 0, 0, 0, 0, 0, 0, 0, 1, 0, 0, 1, 0,\n",
       "       1, 0, 0, 1, 0, 0, 0, 0, 0, 0, 1, 0, 0, 1, 1, 0, 1, 1, 0, 0, 0, 1,\n",
       "       0, 0, 0, 1, 0, 1, 0, 0, 1, 0, 1, 0, 0, 0, 0, 1, 0, 0, 0, 0, 1, 1,\n",
       "       0, 1, 1, 0, 0, 0, 0, 1, 0, 0, 0, 1, 1, 1, 0, 0, 1, 1, 1, 0, 0, 1,\n",
       "       0, 0, 1, 0, 1, 0, 0, 1, 0, 0, 0, 0, 0, 1, 1, 0, 0, 0, 0, 0, 0, 0,\n",
       "       0, 0, 1, 0, 0, 1, 0, 0, 1, 0, 1, 0, 0, 0, 1, 1, 0, 1, 0, 1, 0, 0,\n",
       "       0, 0, 0, 0, 0, 0, 1, 1, 1])"
      ]
     },
     "execution_count": 14,
     "metadata": {},
     "output_type": "execute_result"
    }
   ],
   "source": [
    "X_train.fillna(X_train.mean(), inplace=True)\n",
    "X_test.fillna(X_train.mean(), inplace=True)\n",
    "\n",
    "log_reg = LogisticRegression()\n",
    "log_reg.fit(X_train, y_train)\n",
    "y_pred = log_reg.predict(X_test)\n",
    "y_pred"
   ]
  },
  {
   "cell_type": "code",
   "execution_count": 15,
   "id": "4da0262d",
   "metadata": {
    "execution": {
     "iopub.execute_input": "2023-03-04T12:12:29.071794Z",
     "iopub.status.busy": "2023-03-04T12:12:29.071357Z",
     "iopub.status.idle": "2023-03-04T12:12:29.080056Z",
     "shell.execute_reply": "2023-03-04T12:12:29.079097Z"
    },
    "id": "BDYAoQY5PfjN",
    "outputId": "b65e981f-e316-48c9-e445-4fa45ac3be78",
    "papermill": {
     "duration": 0.020506,
     "end_time": "2023-03-04T12:12:29.082602",
     "exception": false,
     "start_time": "2023-03-04T12:12:29.062096",
     "status": "completed"
    },
    "tags": []
   },
   "outputs": [
    {
     "data": {
      "text/plain": [
       "0.7898305084745763"
      ]
     },
     "execution_count": 15,
     "metadata": {},
     "output_type": "execute_result"
    }
   ],
   "source": [
    "accuracy_score(y_pred, y_test)"
   ]
  },
  {
   "cell_type": "code",
   "execution_count": 16,
   "id": "2f86081d",
   "metadata": {
    "execution": {
     "iopub.execute_input": "2023-03-04T12:12:29.100304Z",
     "iopub.status.busy": "2023-03-04T12:12:29.099691Z",
     "iopub.status.idle": "2023-03-04T12:12:29.111138Z",
     "shell.execute_reply": "2023-03-04T12:12:29.110003Z"
    },
    "id": "HNHcok9qPqaD",
    "outputId": "87131bb7-99d2-48a9-ce8a-72fac7be6bff",
    "papermill": {
     "duration": 0.022916,
     "end_time": "2023-03-04T12:12:29.113452",
     "exception": false,
     "start_time": "2023-03-04T12:12:29.090536",
     "status": "completed"
    },
    "tags": []
   },
   "outputs": [
    {
     "data": {
      "text/plain": [
       "array([[157,  35],\n",
       "       [ 27,  76]])"
      ]
     },
     "execution_count": 16,
     "metadata": {},
     "output_type": "execute_result"
    }
   ],
   "source": [
    "confusion_matrix(y_pred, y_test)"
   ]
  },
  {
   "cell_type": "code",
   "execution_count": 17,
   "id": "9241e522",
   "metadata": {
    "execution": {
     "iopub.execute_input": "2023-03-04T12:12:29.130956Z",
     "iopub.status.busy": "2023-03-04T12:12:29.130505Z",
     "iopub.status.idle": "2023-03-04T12:12:29.152226Z",
     "shell.execute_reply": "2023-03-04T12:12:29.151059Z"
    },
    "id": "F8uQe63PSX5u",
    "papermill": {
     "duration": 0.03422,
     "end_time": "2023-03-04T12:12:29.155460",
     "exception": false,
     "start_time": "2023-03-04T12:12:29.121240",
     "status": "completed"
    },
    "tags": []
   },
   "outputs": [],
   "source": [
    "data_test = pd.read_csv(\"/kaggle/input/titanic/test.csv\")\n",
    "kaggle_test = pd.DataFrame()\n",
    "kaggle_test[\"Sex\"] = data_test['Sex']\n",
    "kaggle_test[\"Pclass\"] = data_test[\"Pclass\"]\n",
    "kaggle_test[\"Fare\"] = data_test[\"Fare\"]\n",
    "kaggle_test[\"Parch\"] = data_test[\"Parch\"]\n",
    "kaggle_test[\"SibSp\"] = data_test[\"SibSp\"]\n",
    "kaggle_test['Sex'].replace('female', 0,inplace=True)\n",
    "kaggle_test['Sex'].replace('male', 1,inplace=True)\n",
    "kaggle_test.fillna(X_train.mean(), inplace=True)"
   ]
  },
  {
   "cell_type": "code",
   "execution_count": 18,
   "id": "ae6291e8",
   "metadata": {
    "execution": {
     "iopub.execute_input": "2023-03-04T12:12:29.173383Z",
     "iopub.status.busy": "2023-03-04T12:12:29.172958Z",
     "iopub.status.idle": "2023-03-04T12:12:29.180207Z",
     "shell.execute_reply": "2023-03-04T12:12:29.178690Z"
    },
    "id": "s8Q9PXV3Sm0J",
    "outputId": "4511b729-0a3d-4d4f-c6d7-ce2811ad5cfb",
    "papermill": {
     "duration": 0.019328,
     "end_time": "2023-03-04T12:12:29.182842",
     "exception": false,
     "start_time": "2023-03-04T12:12:29.163514",
     "status": "completed"
    },
    "tags": []
   },
   "outputs": [],
   "source": [
    "test_pred = log_reg.predict(kaggle_test)"
   ]
  },
  {
   "cell_type": "code",
   "execution_count": 19,
   "id": "e65e6a3f",
   "metadata": {
    "execution": {
     "iopub.execute_input": "2023-03-04T12:12:29.200830Z",
     "iopub.status.busy": "2023-03-04T12:12:29.200103Z",
     "iopub.status.idle": "2023-03-04T12:12:29.213606Z",
     "shell.execute_reply": "2023-03-04T12:12:29.212413Z"
    },
    "id": "or3DdnCJUOTm",
    "outputId": "d418bf8c-46ba-484b-9d7f-a28da80b2577",
    "papermill": {
     "duration": 0.02544,
     "end_time": "2023-03-04T12:12:29.216260",
     "exception": false,
     "start_time": "2023-03-04T12:12:29.190820",
     "status": "completed"
    },
    "tags": []
   },
   "outputs": [
    {
     "data": {
      "text/html": [
       "<div>\n",
       "<style scoped>\n",
       "    .dataframe tbody tr th:only-of-type {\n",
       "        vertical-align: middle;\n",
       "    }\n",
       "\n",
       "    .dataframe tbody tr th {\n",
       "        vertical-align: top;\n",
       "    }\n",
       "\n",
       "    .dataframe thead th {\n",
       "        text-align: right;\n",
       "    }\n",
       "</style>\n",
       "<table border=\"1\" class=\"dataframe\">\n",
       "  <thead>\n",
       "    <tr style=\"text-align: right;\">\n",
       "      <th></th>\n",
       "      <th>PassengerId</th>\n",
       "      <th>Survived</th>\n",
       "    </tr>\n",
       "  </thead>\n",
       "  <tbody>\n",
       "    <tr>\n",
       "      <th>0</th>\n",
       "      <td>892</td>\n",
       "      <td>0</td>\n",
       "    </tr>\n",
       "    <tr>\n",
       "      <th>1</th>\n",
       "      <td>893</td>\n",
       "      <td>1</td>\n",
       "    </tr>\n",
       "    <tr>\n",
       "      <th>2</th>\n",
       "      <td>894</td>\n",
       "      <td>0</td>\n",
       "    </tr>\n",
       "    <tr>\n",
       "      <th>3</th>\n",
       "      <td>895</td>\n",
       "      <td>0</td>\n",
       "    </tr>\n",
       "    <tr>\n",
       "      <th>4</th>\n",
       "      <td>896</td>\n",
       "      <td>1</td>\n",
       "    </tr>\n",
       "    <tr>\n",
       "      <th>...</th>\n",
       "      <td>...</td>\n",
       "      <td>...</td>\n",
       "    </tr>\n",
       "    <tr>\n",
       "      <th>413</th>\n",
       "      <td>1305</td>\n",
       "      <td>0</td>\n",
       "    </tr>\n",
       "    <tr>\n",
       "      <th>414</th>\n",
       "      <td>1306</td>\n",
       "      <td>1</td>\n",
       "    </tr>\n",
       "    <tr>\n",
       "      <th>415</th>\n",
       "      <td>1307</td>\n",
       "      <td>0</td>\n",
       "    </tr>\n",
       "    <tr>\n",
       "      <th>416</th>\n",
       "      <td>1308</td>\n",
       "      <td>0</td>\n",
       "    </tr>\n",
       "    <tr>\n",
       "      <th>417</th>\n",
       "      <td>1309</td>\n",
       "      <td>0</td>\n",
       "    </tr>\n",
       "  </tbody>\n",
       "</table>\n",
       "<p>418 rows × 2 columns</p>\n",
       "</div>"
      ],
      "text/plain": [
       "     PassengerId  Survived\n",
       "0            892         0\n",
       "1            893         1\n",
       "2            894         0\n",
       "3            895         0\n",
       "4            896         1\n",
       "..           ...       ...\n",
       "413         1305         0\n",
       "414         1306         1\n",
       "415         1307         0\n",
       "416         1308         0\n",
       "417         1309         0\n",
       "\n",
       "[418 rows x 2 columns]"
      ]
     },
     "execution_count": 19,
     "metadata": {},
     "output_type": "execute_result"
    }
   ],
   "source": [
    "final = pd.DataFrame()\n",
    "final[\"PassengerId\"] = data_test[\"PassengerId\"]\n",
    "final[\"Survived\"] = test_pred\n",
    "final"
   ]
  },
  {
   "cell_type": "code",
   "execution_count": 20,
   "id": "418c243c",
   "metadata": {
    "execution": {
     "iopub.execute_input": "2023-03-04T12:12:29.234969Z",
     "iopub.status.busy": "2023-03-04T12:12:29.234134Z",
     "iopub.status.idle": "2023-03-04T12:12:29.245871Z",
     "shell.execute_reply": "2023-03-04T12:12:29.244948Z"
    },
    "id": "RYySFxzMU7r-",
    "papermill": {
     "duration": 0.024271,
     "end_time": "2023-03-04T12:12:29.248628",
     "exception": false,
     "start_time": "2023-03-04T12:12:29.224357",
     "status": "completed"
    },
    "tags": []
   },
   "outputs": [],
   "source": [
    "final.to_csv(\"final.csv\", index=False)"
   ]
  }
 ],
 "metadata": {
  "kernelspec": {
   "display_name": "Python 3",
   "language": "python",
   "name": "python3"
  },
  "language_info": {
   "codemirror_mode": {
    "name": "ipython",
    "version": 3
   },
   "file_extension": ".py",
   "mimetype": "text/x-python",
   "name": "python",
   "nbconvert_exporter": "python",
   "pygments_lexer": "ipython3",
   "version": "3.7.12"
  },
  "papermill": {
   "default_parameters": {},
   "duration": 14.210598,
   "end_time": "2023-03-04T12:12:30.079179",
   "environment_variables": {},
   "exception": null,
   "input_path": "__notebook__.ipynb",
   "output_path": "__notebook__.ipynb",
   "parameters": {},
   "start_time": "2023-03-04T12:12:15.868581",
   "version": "2.4.0"
  }
 },
 "nbformat": 4,
 "nbformat_minor": 5
}
